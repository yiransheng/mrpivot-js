{
 "cells": [
  {
   "cell_type": "markdown",
   "metadata": {},
   "source": [
    "# MR like appoach for pivot aggregation\n",
    "\n",
    "## Generate some data\n",
    "\n",
    "Fields `year`, `month`, `chapter`, `volume`, `name` are enum/factor types.\n",
    "\n",
    "`wordCount` and `userRating` are two numeric (integer) fields we care about."
   ]
  },
  {
   "cell_type": "code",
   "execution_count": 18,
   "metadata": {
    "collapsed": false
   },
   "outputs": [
    {
     "data": {
      "text/plain": [
       "{ year: '2015',\n",
       "  month: 'Feb',\n",
       "  chapter: 'Ch. 7',\n",
       "  volume: 'Vol. III',\n",
       "  name: 'Book C',\n",
       "  wordCount: 2024,\n",
       "  userRating: 3 }"
      ]
     },
     "execution_count": 18,
     "metadata": {},
     "output_type": "execute_result"
    }
   ],
   "source": [
    "const _ = require('lodash');\n",
    "const regeneratorRuntime = require('regenerator-runtime-only')\n",
    "\n",
    "// generate denormalized data\n",
    "\n",
    "const levels = {\n",
    "  year : ['2015', '2016'],\n",
    "  month : ['Jan', 'Feb'],\n",
    "  chapter : _.range(1, 21).map(i => `Ch. ${i}`),\n",
    "  volume : ['Vol. I', 'Vol. II', 'Vol. III'],\n",
    "  name : ['Book A', 'Book B', 'Book C']\n",
    "};\n",
    "\n",
    "const measures = {\n",
    "  wordCount : () => _.random(1000, 2500),\n",
    "  userRating: () => _.random(1, 5)\n",
    "}\n",
    "\n",
    "const datumGen = () => {\n",
    "  const d1 = _.mapValues(levels, level => _.sample(level));\n",
    "  const d2 = _.mapValues(measures, m => m());\n",
    "  return Object.assign(d1, d2);\n",
    "}\n",
    "\n",
    "datumGen()"
   ]
  },
  {
   "cell_type": "code",
   "execution_count": 19,
   "metadata": {
    "collapsed": false
   },
   "outputs": [
    {
     "data": {
      "text/plain": [
       "[ { year: '2015',\n",
       "    month: 'Jan',\n",
       "    chapter: 'Ch. 12',\n",
       "    volume: 'Vol. II',\n",
       "    name: 'Book C',\n",
       "    wordCount: 1159,\n",
       "    userRating: 4 },\n",
       "  { year: '2015',\n",
       "    month: 'Jan',\n",
       "    chapter: 'Ch. 5',\n",
       "    volume: 'Vol. I',\n",
       "    name: 'Book B',\n",
       "    wordCount: 1410,\n",
       "    userRating: 3 },\n",
       "  { year: '2015',\n",
       "    month: 'Feb',\n",
       "    chapter: 'Ch. 5',\n",
       "    volume: 'Vol. I',\n",
       "    name: 'Book A',\n",
       "    wordCount: 1457,\n",
       "    userRating: 4 },\n",
       "  { year: '2015',\n",
       "    month: 'Jan',\n",
       "    chapter: 'Ch. 5',\n",
       "    volume: 'Vol. III',\n",
       "    name: 'Book C',\n",
       "    wordCount: 1441,\n",
       "    userRating: 5 } ]"
      ]
     },
     "execution_count": 19,
     "metadata": {},
     "output_type": "execute_result"
    }
   ],
   "source": [
    "const rawData = _.range(1000).map(datumGen);\n",
    "// first 4 rows\n",
    "\n",
    "const sample = rawData.slice(0, 4);\n",
    "sample"
   ]
  },
  {
   "cell_type": "markdown",
   "metadata": {},
   "source": [
    "## \"mapper\"\n",
    "\n",
    "Take each row, yield a couple of rows in plain array format, with items sorted in `rowFields`, `colFields`, `measures` order, fields that are not part of these are dropped."
   ]
  },
  {
   "cell_type": "code",
   "execution_count": 51,
   "metadata": {
    "collapsed": false
   },
   "outputs": [
    {
     "data": {
      "text/plain": [
       "GeneratorFunctionPrototype { _invoke: [Function: invoke] }"
      ]
     },
     "execution_count": 51,
     "metadata": {},
     "output_type": "execute_result"
    }
   ],
   "source": [
    "function* runMapper(rows, mapper) {\n",
    "  for (let row of rows) {\n",
    "    yield* mapper(row);\n",
    "  }\n",
    "}\n",
    "\n",
    "const pivotMapper = (rowKeys) => (colKeys) => (measureKeys) => function* (d) {\n",
    "  const rowVals = rowKeys.map(k => d[k]);\n",
    "  const colVals = colKeys.map(k => d[k]);\n",
    "  const measureVals = measureKeys.map(k => d[k]);\n",
    "  for (let k of _.range(rowKeys.length)) {\n",
    "    let r = rowVals.map((v,i) => (i>k ? null : v));\n",
    "    yield [...r, ...colVals, ...measureVals]\n",
    "  }\n",
    "}\n",
    "\n",
    "// two row fields, 0 column fields, 1 measure fields\n",
    "const mapperTest = runMapper(sample, pivotMapper(['name', 'volume'])([])(['wordCount']))\n",
    "mapperTest"
   ]
  },
  {
   "cell_type": "markdown",
   "metadata": {},
   "source": [
    "## Sorting\n",
    "\n",
    "Sort by: row field 0, row field 1, ... , row field m, col field 1, col field 2, ... col field n"
   ]
  },
  {
   "cell_type": "code",
   "execution_count": 52,
   "metadata": {
    "collapsed": false
   },
   "outputs": [
    {
     "data": {
      "text/plain": [
       "[ [ 'Book A', null, 1457 ],\n",
       "  [ 'Book A', 'Vol. I', 1457 ],\n",
       "  [ 'Book B', null, 1410 ],\n",
       "  [ 'Book B', 'Vol. I', 1410 ],\n",
       "  [ 'Book C', null, 1159 ],\n",
       "  [ 'Book C', null, 1441 ],\n",
       "  [ 'Book C', 'Vol. II', 1159 ],\n",
       "  [ 'Book C', 'Vol. III', 1441 ] ]"
      ]
     },
     "execution_count": 52,
     "metadata": {},
     "output_type": "execute_result"
    }
   ],
   "source": [
    "function keyBasedComparator(keys) {\n",
    "  return (a,b) => {\n",
    "    for(let key of keys) {\n",
    "      if(a[key] === b[key]) continue;\n",
    "      if(a[key] === null) return -1;\n",
    "      if(b[key] === null) return 1;\n",
    "      if(a[key] > b[key]) return 1;\n",
    "      if(a[key] < b[key]) return -1;\n",
    "    }\n",
    "    return 0;\n",
    "  }\n",
    "}\n",
    "\n",
    "\n",
    "function iterToArray(it) {\n",
    "  if (Array.isArray(it)) return it;\n",
    "  let array = [];\n",
    "  for(let x of it) {\n",
    "    array.push(x);\n",
    "  }\n",
    "  return array;\n",
    "}\n",
    "\n",
    "function sortMapperOutput(output, keys) {\n",
    "  output = iterToArray(output);\n",
    "  output.sort(keyBasedComparator(keys));\n",
    "  return output;\n",
    "}\n",
    "\n",
    "const sampleSortKeys = [0, 1]; \n",
    "const mapperTestOutput = iterToArray(mapperTest);\n",
    "const sortedMapperOutput = sortMapperOutput(mapperTestOutput, sampleSortKeys);\n",
    "sortedMapperOutput"
   ]
  },
  {
   "cell_type": "markdown",
   "metadata": {},
   "source": [
    "## Grouping\n",
    "\n",
    "Sorted data are much easier to group by, which can be done in a single iteration.\n",
    "\n",
    "Grouping key is: rowField + colField - by unique values."
   ]
  },
  {
   "cell_type": "code",
   "execution_count": 49,
   "metadata": {
    "collapsed": false
   },
   "outputs": [
    {
     "data": {
      "text/plain": [
       "[ [ [ 'Book A', null, 1457 ] ],\n",
       "  [ [ 'Book A', 'Vol. I', 1457 ] ],\n",
       "  [ [ 'Book B', null, 1410 ] ],\n",
       "  [ [ 'Book B', 'Vol. I', 1410 ] ],\n",
       "  [ [ 'Book C', null, 1159 ], [ 'Book C', null, 1441 ] ],\n",
       "  [ [ 'Book C', 'Vol. II', 1159 ] ],\n",
       "  [ [ 'Book C', 'Vol. III', 1441 ] ] ]"
      ]
     },
     "execution_count": 49,
     "metadata": {},
     "output_type": "execute_result"
    }
   ],
   "source": [
    "function* groupBySorted(iterable, keys) {\n",
    "  let lastX = null;\n",
    "  let buffer = [];\n",
    "  let compare = keyBasedComparator(keys);\n",
    "  for( let x of iterable) {\n",
    "    if(!lastX) {\n",
    "      buffer.push(x);\n",
    "    } else {\n",
    "      const sameGroup = compare(x, lastX);\n",
    "      if (sameGroup === 0) {\n",
    "        buffer.push(x);\n",
    "      } else {\n",
    "        yield buffer;\n",
    "        buffer = [x];\n",
    "      }\n",
    "    }\n",
    "    lastX = x;\n",
    "  }\n",
    "  if(buffer.length) yield buffer;\n",
    "}\n",
    "\n",
    "const groupedData = iterToArray(\n",
    "  groupBySorted(sortedMapperOutput, sampleSortKeys)\n",
    ")\n",
    "groupedData"
   ]
  },
  {
   "cell_type": "markdown",
   "metadata": {},
   "source": [
    "## \"reducer\"\n",
    "\n",
    "For each group, a supplied reduce function and initial value is run on the group. For simple sum, reducer is sum, and seed is 0."
   ]
  },
  {
   "cell_type": "code",
   "execution_count": 50,
   "metadata": {
    "collapsed": false
   },
   "outputs": [
    {
     "data": {
      "text/plain": [
       "[ [ 'Book A', null, 1457 ],\n",
       "  [ 'Book A', 'Vol. I', 1457 ],\n",
       "  [ 'Book B', null, 1410 ],\n",
       "  [ 'Book B', 'Vol. I', 1410 ],\n",
       "  [ 'Book C', null, 2600 ],\n",
       "  [ 'Book C', 'Vol. II', 1159 ],\n",
       "  [ 'Book C', 'Vol. III', 1441 ] ]"
      ]
     },
     "execution_count": 50,
     "metadata": {},
     "output_type": "execute_result"
    }
   ],
   "source": [
    "function* reduceWithKey(iterable, fn, seed) {\n",
    "  for(let group of iterable) {\n",
    "    yield group.reduce(fn, seed);\n",
    "  }\n",
    "}\n",
    "\n",
    "function aggregateWordCount(acc, nextRow) {\n",
    "  const key = _.initial(nextRow);\n",
    "  const value = _.last(nextRow);\n",
    "  acc = _.last(acc);\n",
    "  return [...key, acc+value];\n",
    "}\n",
    "\n",
    "const pivotResults = reduceWithKey(groupedData, aggregateWordCount, [null, null, 0]);\n",
    "iterToArray(\n",
    "  pivotResults\n",
    ")"
   ]
  },
  {
   "cell_type": "markdown",
   "metadata": {},
   "source": [
    "## Full example on 1000-row table\n",
    "\n",
    "* Row fields: name, volume\n",
    "* Col fields: year, month\n",
    "* Measures: sum(wordCount), avg(userRating)"
   ]
  },
  {
   "cell_type": "code",
   "execution_count": 72,
   "metadata": {
    "collapsed": false
   },
   "outputs": [
    {
     "data": {
      "text/plain": [
       "'use strict'"
      ]
     },
     "execution_count": 72,
     "metadata": {},
     "output_type": "execute_result"
    }
   ],
   "source": [
    "const rowFields = [\"name\", \"volume\"];\n",
    "const colFields = [\"year\", \"month\"];\n",
    "const measures = [\"wordCount\", \"userRating\"];\n",
    "\n",
    "const mapperStep = \n",
    "      runMapper(\n",
    "        rawData, \n",
    "        pivotMapper(rowFields)(colFields)(measures)\n",
    "      );\n",
    "\n",
    "// sort and group by row and col fields\n",
    "const sortKeys = _.range(rowFields.length + colFields.length);\n",
    "const rowFieldsKeys = _.range(rowFields.length);\n",
    "\n",
    "const sortStep = sortMapperOutput(mapperStep, sortKeys);\n",
    "const groupStep = groupBySorted(sortStep, sortKeys);"
   ]
  },
  {
   "cell_type": "code",
   "execution_count": 73,
   "metadata": {
    "collapsed": false
   },
   "outputs": [
    {
     "data": {
      "text/plain": [
       "'use strict'"
      ]
     },
     "execution_count": 73,
     "metadata": {},
     "output_type": "execute_result"
    }
   ],
   "source": [
    "const empty = [null, null, null, null, 0, { sum: 0, n: 0 }]; // reducer seed\n",
    "\n",
    "const keyLen = rowFields.length + colFields.length;\n",
    "\n",
    "// sum word count, average userRating\n",
    "function aggregate(acc, nextRow) {\n",
    "  const key = nextRow.slice(0, keyLen);\n",
    "  const value = nextRow.slice(keyLen);\n",
    "  acc = acc.slice(keyLen);\n",
    "  const [accWordCount, accUserRating] = acc;\n",
    "  const [nextWordCount, nextUserRating] = value;\n",
    "  \n",
    "  const userRating = {\n",
    "    sum : accUserRating.sum + nextUserRating,\n",
    "    n : accUserRating.n + 1\n",
    "  };\n",
    "  \n",
    "  return [...key, accWordCount+nextWordCount, userRating ];\n",
    "}\n",
    "\n",
    "const results = reduceWithKey(groupStep, aggregate, empty);"
   ]
  },
  {
   "cell_type": "code",
   "execution_count": 75,
   "metadata": {
    "collapsed": false
   },
   "outputs": [
    {
     "data": {
      "text/plain": [
       "'use strict'"
      ]
     },
     "execution_count": 75,
     "metadata": {},
     "output_type": "execute_result"
    }
   ],
   "source": [
    "// compute average after aggregation\n",
    "const pivoted = iterToArray(results).map(r => {\n",
    "  const key = r.slice(0, keyLen);\n",
    "  const value = r.slice(keyLen);\n",
    "  const [wordCount, userRating] = value;\n",
    "  // divide sum / count => average\n",
    "  return [ ...key, wordCount, userRating.sum / userRating.n]\n",
    "});"
   ]
  },
  {
   "cell_type": "markdown",
   "metadata": {},
   "source": [
    "Stich together API response."
   ]
  },
  {
   "cell_type": "code",
   "execution_count": 79,
   "metadata": {
    "collapsed": false
   },
   "outputs": [
    {
     "data": {
      "text/plain": [
       "{ headers: [ 'name', 'volume', 'year', 'month', 'wordCount', 'userRating' ],\n",
       "  values: \n",
       "   [ [ 'Book A', null, '2015', 'Feb', 166397, 2.9450549450549453 ],\n",
       "     [ 'Book A', null, '2015', 'Jan', 144552, 2.975609756097561 ],\n",
       "     [ 'Book A', null, '2016', 'Feb', 143717, 2.988235294117647 ],\n",
       "     [ 'Book A', null, '2016', 'Jan', 160766, 3.1123595505617976 ],\n",
       "     [ 'Book A', 'Vol. I', '2015', 'Feb', 54594, 3.1379310344827585 ],\n",
       "     [ 'Book A', 'Vol. I', '2015', 'Jan', 64410, 3 ],\n",
       "     [ 'Book A', 'Vol. I', '2016', 'Feb', 54305, 3.032258064516129 ],\n",
       "     [ 'Book A', 'Vol. I', '2016', 'Jan', 53963, 3.3333333333333335 ],\n",
       "     [ 'Book A', 'Vol. II', '2015', 'Feb', 55915, 3.0625 ],\n",
       "     [ 'Book A', 'Vol. II', '2015', 'Jan', 38897, 3.1818181818181817 ],\n",
       "     [ 'Book A', 'Vol. II', '2016', 'Feb', 43631, 3.2222222222222223 ],\n",
       "     [ 'Book A', 'Vol. II', '2016', 'Jan', 58896, 2.774193548387097 ],\n",
       "     [ 'Book A', 'Vol. III', '2015', 'Feb', 55888, 2.6333333333333333 ],\n",
       "     [ 'Book A', 'Vol. III', '2015', 'Jan', 41245, 2.75 ],\n",
       "     [ 'Book A', 'Vol. III', '2016', 'Feb', 45781, 2.7037037037037037 ],\n",
       "     [ 'Book A', 'Vol. III', '2016', 'Jan', 47907, 3.25 ],\n",
       "     [ 'Book B', null, '2015', 'Feb', 128007, 3.140845070422535 ],\n",
       "     [ 'Book B', null, '2015', 'Jan', 163561, 3.056179775280899 ],\n",
       "     [ 'Book B', null, '2016', 'Feb', 141132, 2.9146341463414633 ],\n",
       "     [ 'Book B', null, '2016', 'Jan', 129437, 3.051948051948052 ],\n",
       "     [ 'Book B', 'Vol. I', '2015', 'Feb', 50434, 3.357142857142857 ],\n",
       "     [ 'Book B', 'Vol. I', '2015', 'Jan', 44402, 3.16 ],\n",
       "     [ 'Book B', 'Vol. I', '2016', 'Feb', 66224, 2.8947368421052633 ],\n",
       "     [ 'Book B', 'Vol. I', '2016', 'Jan', 39813, 3.260869565217391 ],\n",
       "     [ 'Book B', 'Vol. II', '2015', 'Feb', 35776, 3.4 ],\n",
       "     [ 'Book B', 'Vol. II', '2015', 'Jan', 60181, 3.09375 ],\n",
       "     [ 'Book B', 'Vol. II', '2016', 'Feb', 39140, 2.909090909090909 ],\n",
       "     [ 'Book B', 'Vol. II', '2016', 'Jan', 55463, 3.0588235294117645 ],\n",
       "     [ 'Book B', 'Vol. III', '2015', 'Feb', 41797, 2.652173913043478 ],\n",
       "     [ 'Book B', 'Vol. III', '2015', 'Jan', 58978, 2.9375 ],\n",
       "     [ 'Book B', 'Vol. III', '2016', 'Feb', 35768, 2.9545454545454546 ],\n",
       "     [ 'Book B', 'Vol. III', '2016', 'Jan', 34161, 2.8 ],\n",
       "     [ 'Book C', null, '2015', 'Feb', 146356, 2.9080459770114944 ],\n",
       "     [ 'Book C', null, '2015', 'Jan', 128778, 3.0277777777777777 ],\n",
       "     [ 'Book C', null, '2016', 'Feb', 176535, 2.742857142857143 ],\n",
       "     [ 'Book C', null, '2016', 'Jan', 127342, 2.7857142857142856 ],\n",
       "     [ 'Book C', 'Vol. I', '2015', 'Feb', 48151, 3.1333333333333333 ],\n",
       "     [ 'Book C', 'Vol. I', '2015', 'Jan', 38198, 3.1818181818181817 ],\n",
       "     [ 'Book C', 'Vol. I', '2016', 'Feb', 51384, 3.033333333333333 ],\n",
       "     [ 'Book C', 'Vol. I', '2016', 'Jan', 34174, 2.210526315789474 ],\n",
       "     [ 'Book C', 'Vol. II', '2015', 'Feb', 55751, 2.7 ],\n",
       "     [ 'Book C', 'Vol. II', '2015', 'Jan', 43037, 2.9583333333333335 ],\n",
       "     [ 'Book C', 'Vol. II', '2016', 'Feb', 50025, 2.6129032258064515 ],\n",
       "     [ 'Book C', 'Vol. II', '2016', 'Jan', 43721, 2.9166666666666665 ],\n",
       "     [ 'Book C', 'Vol. III', '2015', 'Feb', 42454, 2.888888888888889 ],\n",
       "     [ 'Book C', 'Vol. III', '2015', 'Jan', 47543, 2.9615384615384617 ],\n",
       "     [ 'Book C', 'Vol. III', '2016', 'Feb', 75126, 2.6363636363636362 ],\n",
       "     [ 'Book C', 'Vol. III', '2016', 'Jan', 49447, 3.074074074074074 ] ] }"
      ]
     },
     "execution_count": 79,
     "metadata": {},
     "output_type": "execute_result"
    }
   ],
   "source": [
    "const data = {\n",
    "  headers: [...rowFields, ...colFields, ...measures],\n",
    "  values : pivoted\n",
    "}\n",
    "data"
   ]
  },
  {
   "cell_type": "markdown",
   "metadata": {},
   "source": [
    "## Additional Steps to make pivot data UI friendly.\n",
    "\n",
    "WARNING: messy code ahead...., skip to the end to see JSON results."
   ]
  },
  {
   "cell_type": "code",
   "execution_count": 97,
   "metadata": {
    "collapsed": false
   },
   "outputs": [
    {
     "data": {
      "text/plain": [
       "[ [ '2015', '2016' ], [ 'Feb', 'Jan' ] ]"
      ]
     },
     "execution_count": 97,
     "metadata": {},
     "output_type": "execute_result"
    }
   ],
   "source": [
    "const rowIndices = _.range(rowFields.length);\n",
    "const colIndices = _.range(colFields.length).map(i => i + rowFields.length);\n",
    "const measureIndices = _.range(measures.length)\n",
    "                        .map(i => i + rowFields.length + colFields.length);\n",
    "const uniqColValues = colIndices.map(k => {\n",
    "  const getter = r => r[k];\n",
    "  return _.uniqBy(data.values, getter).map(getter);\n",
    "});\n",
    "uniqColValues"
   ]
  },
  {
   "cell_type": "code",
   "execution_count": 103,
   "metadata": {
    "collapsed": false
   },
   "outputs": [
    {
     "data": {
      "text/plain": [
       "[ [ '2015', 'Feb' ],\n",
       "  [ '2015', 'Jan' ],\n",
       "  [ '2016', 'Feb' ],\n",
       "  [ '2016', 'Jan' ] ]"
      ]
     },
     "execution_count": 103,
     "metadata": {},
     "output_type": "execute_result"
    }
   ],
   "source": [
    "const cartesianProduct = (...collections) => {\n",
    "  collections.reverse();\n",
    "  const products = collections.reduce( // ? reduceRight\n",
    "    (tuples, vals) => (tuples ? \n",
    "      _.flatMap(vals, v => tuples.map(t => t.concat([v]))) :\n",
    "      vals.map(v => [v])),\n",
    "    null\n",
    "  ).map(t => { t.reverse(); return t; })\n",
    "  return products;\n",
    "}\n",
    "\n",
    "const uniqColCombinations = cartesianProduct(...uniqColValues);\n",
    "uniqColCombinations"
   ]
  },
  {
   "cell_type": "code",
   "execution_count": 118,
   "metadata": {
    "collapsed": false
   },
   "outputs": [
    {
     "data": {
      "text/plain": [
       "Map {\n",
       "  '2015,Feb' => 0,\n",
       "  '2015,Jan' => 2,\n",
       "  '2016,Feb' => 4,\n",
       "  '2016,Jan' => 6 }"
      ]
     },
     "execution_count": 118,
     "metadata": {},
     "output_type": "execute_result"
    }
   ],
   "source": [
    "const makeMapFromPairs = (pairs) => {\n",
    "  const map = new Map();\n",
    "  for(let p of pairs) {\n",
    "    const [key, value] = p;\n",
    "    map.set(key, value);\n",
    "    // map.set(...p);\n",
    "  }\n",
    "  return map;\n",
    "}\n",
    "\n",
    "const nMeasures = measures.length;\n",
    "const nPivotColumns = nMeasures * uniqColCombinations.length;\n",
    "\n",
    "const pivotIndicesMapping = makeMapFromPairs(\n",
    "  _.zip(\n",
    "    uniqColCombinations.map(comb => comb.join(\",\")),\n",
    "    _.range(0, uniqColCombinations.length*nMeasures, nMeasures)\n",
    "  )\n",
    ")\n",
    "pivotIndicesMapping"
   ]
  },
  {
   "cell_type": "code",
   "execution_count": 119,
   "metadata": {
    "collapsed": false
   },
   "outputs": [
    {
     "name": "stdout",
     "output_type": "stream",
     "text": [
      "[ [ 'Book A', null ],\n",
      "  Map {\n",
      "    '2015,Feb' => [ 166397, 2.9450549450549453 ],\n",
      "    '2015,Jan' => [ 144552, 2.975609756097561 ],\n",
      "    '2016,Feb' => [ 143717, 2.988235294117647 ],\n",
      "    '2016,Jan' => [ 160766, 3.1123595505617976 ] } ]\n",
      "[ [ 'Book A', 'Vol. I' ],\n",
      "  Map {\n",
      "    '2015,Feb' => [ 54594, 3.1379310344827585 ],\n",
      "    '2015,Jan' => [ 64410, 3 ],\n",
      "    '2016,Feb' => [ 54305, 3.032258064516129 ],\n",
      "    '2016,Jan' => [ 53963, 3.3333333333333335 ] } ]\n",
      "[ [ 'Book A', 'Vol. II' ],\n",
      "  Map {\n",
      "    '2015,Feb' => [ 55915, 3.0625 ],\n",
      "    '2015,Jan' => [ 38897, 3.1818181818181817 ],\n",
      "    '2016,Feb' => [ 43631, 3.2222222222222223 ],\n",
      "    '2016,Jan' => [ 58896, 2.774193548387097 ] } ]\n",
      "[ [ 'Book A', 'Vol. III' ],\n",
      "  Map {\n",
      "    '2015,Feb' => [ 55888, 2.6333333333333333 ],\n",
      "    '2015,Jan' => [ 41245, 2.75 ],\n",
      "    '2016,Feb' => [ 45781, 2.7037037037037037 ],\n",
      "    '2016,Jan' => [ 47907, 3.25 ] } ]\n",
      "[ [ 'Book B', null ],\n",
      "  Map {\n",
      "    '2015,Feb' => [ 128007, 3.140845070422535 ],\n",
      "    '2015,Jan' => [ 163561, 3.056179775280899 ],\n",
      "    '2016,Feb' => [ 141132, 2.9146341463414633 ],\n",
      "    '2016,Jan' => [ 129437, 3.051948051948052 ] } ]\n",
      "[ [ 'Book B', 'Vol. I' ],\n",
      "  Map {\n",
      "    '2015,Feb' => [ 50434, 3.357142857142857 ],\n",
      "    '2015,Jan' => [ 44402, 3.16 ],\n",
      "    '2016,Feb' => [ 66224, 2.8947368421052633 ],\n",
      "    '2016,Jan' => [ 39813, 3.260869565217391 ] } ]\n",
      "[ [ 'Book B', 'Vol. II' ],\n",
      "  Map {\n",
      "    '2015,Feb' => [ 35776, 3.4 ],\n",
      "    '2015,Jan' => [ 60181, 3.09375 ],\n",
      "    '2016,Feb' => [ 39140, 2.909090909090909 ],\n",
      "    '2016,Jan' => [ 55463, 3.0588235294117645 ] } ]\n",
      "[ [ 'Book B', 'Vol. III' ],\n",
      "  Map {\n",
      "    '2015,Feb' => [ 41797, 2.652173913043478 ],\n",
      "    '2015,Jan' => [ 58978, 2.9375 ],\n",
      "    '2016,Feb' => [ 35768, 2.9545454545454546 ],\n",
      "    '2016,Jan' => [ 34161, 2.8 ] } ]\n",
      "[ [ 'Book C', null ],\n",
      "  Map {\n",
      "    '2015,Feb' => [ 146356, 2.9080459770114944 ],\n",
      "    '2015,Jan' => [ 128778, 3.0277777777777777 ],\n",
      "    '2016,Feb' => [ 176535, 2.742857142857143 ],\n",
      "    '2016,Jan' => [ 127342, 2.7857142857142856 ] } ]\n",
      "[ [ 'Book C', 'Vol. I' ],\n",
      "  Map {\n",
      "    '2015,Feb' => [ 48151, 3.1333333333333333 ],\n",
      "    '2015,Jan' => [ 38198, 3.1818181818181817 ],\n",
      "    '2016,Feb' => [ 51384, 3.033333333333333 ],\n",
      "    '2016,Jan' => [ 34174, 2.210526315789474 ] } ]\n",
      "[ [ 'Book C', 'Vol. II' ],\n",
      "  Map {\n",
      "    '2015,Feb' => [ 55751, 2.7 ],\n",
      "    '2015,Jan' => [ 43037, 2.9583333333333335 ],\n",
      "    '2016,Feb' => [ 50025, 2.6129032258064515 ],\n",
      "    '2016,Jan' => [ 43721, 2.9166666666666665 ] } ]\n",
      "[ [ 'Book C', 'Vol. III' ],\n",
      "  Map {\n",
      "    '2015,Feb' => [ 42454, 2.888888888888889 ],\n",
      "    '2015,Jan' => [ 47543, 2.9615384615384617 ],\n",
      "    '2016,Feb' => [ 75126, 2.6363636363636362 ],\n",
      "    '2016,Jan' => [ 49447, 3.074074074074074 ] } ]\n"
     ]
    },
    {
     "data": {
      "text/plain": [
       "''"
      ]
     },
     "execution_count": 119,
     "metadata": {},
     "output_type": "execute_result"
    }
   ],
   "source": [
    "const takeFromIndices = (arr, indices) => {\n",
    "  return indices.map(j => arr[j]);\n",
    "}\n",
    "\n",
    "const mergeByRow = (hashMap, nextRow) => {\n",
    "  if(!hashMap) {\n",
    "    hashMap = new Map();\n",
    "  } else {\n",
    "    hashMap = hashMap[1];\n",
    "  }\n",
    "  const colKey = takeFromIndices(nextRow, colIndices).join(\",\");\n",
    "  const value = takeFromIndices(nextRow, measureIndices);\n",
    "  hashMap.set(colKey, value);\n",
    "  return [takeFromIndices(nextRow, rowIndices), hashMap];\n",
    "}\n",
    "\n",
    "const groupByRow = groupBySorted(data.values, _.range(rowFields.length));\n",
    "const tallyed = iterToArray( reduceWithKey(groupByRow, mergeByRow, null) );\n",
    "\n",
    "tallyed.forEach(v => console.log(v));\n",
    "\"\""
   ]
  },
  {
   "cell_type": "code",
   "execution_count": 133,
   "metadata": {
    "collapsed": false,
    "scrolled": false
   },
   "outputs": [
    {
     "data": {
      "text/plain": [
       "{ headers: \n",
       "   [ 'name',\n",
       "     'volume',\n",
       "     '2015.Feb.wordCount',\n",
       "     '2015.Feb.userRating',\n",
       "     '2015.Jan.wordCount',\n",
       "     '2015.Jan.userRating',\n",
       "     '2016.Feb.wordCount',\n",
       "     '2016.Feb.userRating',\n",
       "     '2016.Jan.wordCount',\n",
       "     '2016.Jan.userRating' ],\n",
       "  values: \n",
       "   [ [ 'Book A',\n",
       "       null,\n",
       "       166397,\n",
       "       2.9450549450549453,\n",
       "       144552,\n",
       "       2.975609756097561,\n",
       "       143717,\n",
       "       2.988235294117647,\n",
       "       160766,\n",
       "       3.1123595505617976 ],\n",
       "     [ 'Book A',\n",
       "       'Vol. I',\n",
       "       54594,\n",
       "       3.1379310344827585,\n",
       "       64410,\n",
       "       3,\n",
       "       54305,\n",
       "       3.032258064516129,\n",
       "       53963,\n",
       "       3.3333333333333335 ],\n",
       "     [ 'Book A',\n",
       "       'Vol. II',\n",
       "       55915,\n",
       "       3.0625,\n",
       "       38897,\n",
       "       3.1818181818181817,\n",
       "       43631,\n",
       "       3.2222222222222223,\n",
       "       58896,\n",
       "       2.774193548387097 ],\n",
       "     [ 'Book A',\n",
       "       'Vol. III',\n",
       "       55888,\n",
       "       2.6333333333333333,\n",
       "       41245,\n",
       "       2.75,\n",
       "       45781,\n",
       "       2.7037037037037037,\n",
       "       47907,\n",
       "       3.25 ],\n",
       "     [ 'Book B',\n",
       "       null,\n",
       "       128007,\n",
       "       3.140845070422535,\n",
       "       163561,\n",
       "       3.056179775280899,\n",
       "       141132,\n",
       "       2.9146341463414633,\n",
       "       129437,\n",
       "       3.051948051948052 ],\n",
       "     [ 'Book B',\n",
       "       'Vol. I',\n",
       "       50434,\n",
       "       3.357142857142857,\n",
       "       44402,\n",
       "       3.16,\n",
       "       66224,\n",
       "       2.8947368421052633,\n",
       "       39813,\n",
       "       3.260869565217391 ],\n",
       "     [ 'Book B',\n",
       "       'Vol. II',\n",
       "       35776,\n",
       "       3.4,\n",
       "       60181,\n",
       "       3.09375,\n",
       "       39140,\n",
       "       2.909090909090909,\n",
       "       55463,\n",
       "       3.0588235294117645 ],\n",
       "     [ 'Book B',\n",
       "       'Vol. III',\n",
       "       41797,\n",
       "       2.652173913043478,\n",
       "       58978,\n",
       "       2.9375,\n",
       "       35768,\n",
       "       2.9545454545454546,\n",
       "       34161,\n",
       "       2.8 ],\n",
       "     [ 'Book C',\n",
       "       null,\n",
       "       146356,\n",
       "       2.9080459770114944,\n",
       "       128778,\n",
       "       3.0277777777777777,\n",
       "       176535,\n",
       "       2.742857142857143,\n",
       "       127342,\n",
       "       2.7857142857142856 ],\n",
       "     [ 'Book C',\n",
       "       'Vol. I',\n",
       "       48151,\n",
       "       3.1333333333333333,\n",
       "       38198,\n",
       "       3.1818181818181817,\n",
       "       51384,\n",
       "       3.033333333333333,\n",
       "       34174,\n",
       "       2.210526315789474 ],\n",
       "     [ 'Book C',\n",
       "       'Vol. II',\n",
       "       55751,\n",
       "       2.7,\n",
       "       43037,\n",
       "       2.9583333333333335,\n",
       "       50025,\n",
       "       2.6129032258064515,\n",
       "       43721,\n",
       "       2.9166666666666665 ],\n",
       "     [ 'Book C',\n",
       "       'Vol. III',\n",
       "       42454,\n",
       "       2.888888888888889,\n",
       "       47543,\n",
       "       2.9615384615384617,\n",
       "       75126,\n",
       "       2.6363636363636362,\n",
       "       49447,\n",
       "       3.074074074074074 ] ] }"
      ]
     },
     "execution_count": 133,
     "metadata": {},
     "output_type": "execute_result"
    }
   ],
   "source": [
    "const pivotTable = tallyed.map(([rowKey, valueMap]) => {\n",
    "  const pivotRow = new Array(nPivotColumns);\n",
    "  for (let [colKey, mVals] of valueMap.entries()) {\n",
    "    const istart = pivotIndicesMapping.get(colKey);\n",
    "    const iend = istart + nMeasures;\n",
    "    for(let i of _.range(istart, iend)) {\n",
    "      pivotRow[i] = mVals[i - istart];\n",
    "    }\n",
    "  }\n",
    "  return [...rowKey, ...pivotRow];\n",
    "})\n",
    "const pivotHeaders = _.flatMap(uniqColCombinations, comb => (\n",
    "  measures.map(k=> `${comb.join(\".\")}.${k}`)\n",
    "))\n",
    "const betterData = {\n",
    "  headers: [...rowFields, ...pivotHeaders],\n",
    "  values: pivotTable\n",
    "}\n",
    "betterData"
   ]
  }
 ],
 "metadata": {
  "kernelspec": {
   "display_name": "Babel (Node.js)",
   "language": "babel",
   "name": "babel"
  },
  "language_info": {
   "file_extension": ".js",
   "mimetype": "application/javascript",
   "name": "javascript",
   "version": "5.6.0"
  }
 },
 "nbformat": 4,
 "nbformat_minor": 0
}
